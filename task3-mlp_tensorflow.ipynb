{
 "cells": [
  {
   "cell_type": "markdown",
   "metadata": {},
   "source": [
    "## Columbia University\n",
    "### ECBM E4040 Neural Networks and Deep Learning. Fall 2022."
   ]
  },
  {
   "cell_type": "markdown",
   "metadata": {
    "colab_type": "text",
    "id": "Qe6yTh55trpQ"
   },
   "source": [
    "# Assignment 1, Task 3: Multilayer Perceptron (MLP)\n",
    "This is the third part of the assignment. You will get to implement MLP using tensorflow"
   ]
  },
  {
   "cell_type": "code",
   "execution_count": 1,
   "metadata": {
    "colab": {},
    "colab_type": "code",
    "id": "7Vs2WYIFtrpS",
    "tags": []
   },
   "outputs": [],
   "source": [
    "# Import modules\n",
    "from __future__ import print_function\n",
    "import tensorflow as tf\n",
    "import numpy as np\n",
    "import time\n",
    "import os\n",
    "import matplotlib.pyplot as plt\n",
    "import pickle\n",
    "\n",
    "from tensorflow.keras.datasets import fashion_mnist\n",
    "\n",
    "# Plot configurations\n",
    "%matplotlib inline\n",
    "\n",
    "# Notebook auto reloads code. (Ref: http://stackoverflow.com/questions/1907993/autoreload-of-modules-in-ipython)\n",
    "%load_ext autoreload\n",
    "%autoreload 2"
   ]
  },
  {
   "cell_type": "markdown",
   "metadata": {
    "colab_type": "text",
    "id": "3gYnTjputrpV"
   },
   "source": [
    "## Load Data"
   ]
  },
  {
   "cell_type": "code",
   "execution_count": 2,
   "metadata": {
    "colab": {
     "base_uri": "https://localhost:8080/",
     "height": 168
    },
    "colab_type": "code",
    "id": "I31uJ6KltrpW",
    "outputId": "1a677958-43ca-422c-ec66-38e8cdff4283",
    "tags": []
   },
   "outputs": [
    {
     "name": "stdout",
     "output_type": "stream",
     "text": [
      "(58000, 784) (2000, 784) (10000, 784) (100, 784)\n",
      "Train data shape:  (58000, 784)\n",
      "Train labels shape:  (58000,)\n",
      "Validation data shape:  (2000, 784)\n",
      "Validation labels shape:  (2000,)\n",
      "Test data shape:  (10000, 784)\n",
      "Test labels shape:  (10000,)\n",
      "Development data shape: (100, 784)\n",
      "Development data shape (100,)\n"
     ]
    }
   ],
   "source": [
    "# Load the raw Fashion-MNIST data.\n",
    "train, test = fashion_mnist.load_data()\n",
    "\n",
    "X_train_raw, y_train = train\n",
    "X_test_raw, y_test = test\n",
    "\n",
    "X_train = X_train_raw.reshape((X_train_raw.shape[0], X_train_raw.shape[1]**2))\n",
    "X_test = X_test_raw.reshape((X_test_raw.shape[0], X_test_raw.shape[1]**2))\n",
    "\n",
    "# Data organizations:\n",
    "# Train data: 58000 samples from original training set of 60,000\n",
    "# Validation data: 2000 samples from original training set: 58,000~60,000\n",
    "# Test data: 10000 samples from original test set\n",
    "# Development data (for gradient check): 100 from the training set\n",
    "\n",
    "num_training = 58000\n",
    "num_validation = 2000\n",
    "num_dev = 100\n",
    "\n",
    "X_val = X_train[-num_validation:, :]\n",
    "y_val = y_train[-num_validation:]\n",
    "\n",
    "mask = np.random.choice(num_training, num_dev, replace=False)\n",
    "X_dev = X_train[mask]\n",
    "y_dev = y_train[mask]\n",
    "\n",
    "X_train = X_train[:num_training, :]\n",
    "y_train = y_train[:num_training]\n",
    "\n",
    "# Preprocessing: subtract the mean value across every dimension for training data\n",
    "mean_image = np.mean(X_train, axis=0)\n",
    "\n",
    "X_train = X_train.astype(np.float32) - mean_image.astype(np.float32)\n",
    "X_val = X_val.astype(np.float32) - mean_image\n",
    "X_test = X_test.astype(np.float32) - mean_image\n",
    "X_dev = X_dev.astype(np.float32) - mean_image\n",
    "\n",
    "print(X_train.shape, X_val.shape, X_test.shape, X_dev.shape)\n",
    "print('Train data shape: ', X_train.shape)\n",
    "print('Train labels shape: ', y_train.shape)\n",
    "print('Validation data shape: ', X_val.shape)\n",
    "print('Validation labels shape: ', y_val.shape)\n",
    "print('Test data shape: ', X_test.shape)\n",
    "print('Test labels shape: ', y_test.shape)\n",
    "print('Development data shape:', X_dev.shape)\n",
    "print('Development data shape', y_dev.shape)"
   ]
  },
  {
   "cell_type": "markdown",
   "metadata": {
    "colab_type": "text",
    "id": "xa_w8ZHbtrqY"
   },
   "source": [
    "## Part 1: Tensorflow MLP (15%)\n",
    "In this part, you will use tensorflow modules to implement a MLP. We provide a demo of a two-layer net, of which style is referred to https://www.tensorflow.org/guide/keras, and https://www.tensorflow.org/guide/eager. \n",
    "\n",
    "You need to implement a multi-layer with 4 layers in a similar style."
   ]
  },
  {
   "cell_type": "markdown",
   "metadata": {},
   "source": [
    "### Demo: Two-layer MLP in Tensorflow"
   ]
  },
  {
   "cell_type": "code",
   "execution_count": 3,
   "metadata": {
    "colab": {
     "base_uri": "https://localhost:8080/",
     "height": 202
    },
    "colab_type": "code",
    "id": "-0xQOzpdtrqZ",
    "outputId": "212defc2-2cd6-406f-affe-9c6c7367e87f",
    "tags": []
   },
   "outputs": [
    {
     "name": "stdout",
     "output_type": "stream",
     "text": [
      "epoch 1: valid acc = 0.7465000152587891\n",
      "epoch 2: valid acc = 0.7990000247955322\n",
      "epoch 3: valid acc = 0.8180000185966492\n",
      "epoch 4: valid acc = 0.8385000228881836\n",
      "epoch 5: valid acc = 0.8410000205039978\n",
      "epoch 6: valid acc = 0.8500000238418579\n",
      "epoch 7: valid acc = 0.8615000247955322\n",
      "epoch 8: valid acc = 0.8700000047683716\n",
      "epoch 9: valid acc = 0.8709999918937683\n",
      "epoch 10: valid acc = 0.8744999766349792\n",
      "epoch 11: valid acc = 0.8755000233650208\n",
      "epoch 12: valid acc = 0.8769999742507935\n",
      "epoch 13: valid acc = 0.8784999847412109\n",
      "epoch 14: valid acc = 0.8799999952316284\n",
      "epoch 15: valid acc = 0.8809999823570251\n",
      "test acc = 0.857200026512146\n"
     ]
    }
   ],
   "source": [
    "## Demo: Two-layer net in tensorflow (eager execution mode)\n",
    "hidden_dim = 300\n",
    "reg_tf = tf.constant(0.01)\n",
    "\n",
    "# define a tf.keras.Model class\n",
    "class Model(tf.keras.Model):\n",
    "    def __init__(self):\n",
    "        super(Model, self).__init__()\n",
    "        self.W1 = tf.Variable(1e-2*np.random.rand(X_train.shape[1], hidden_dim).astype('float32'))\n",
    "        self.b1 = tf.Variable(np.zeros((hidden_dim,)).astype('float32'))\n",
    "        self.W2 = tf.Variable(1e-2*np.random.rand(hidden_dim, 20).astype('float32'))\n",
    "        self.b2 = tf.Variable(np.zeros((20,)).astype('float32'))\n",
    "    def call(self, inputs):\n",
    "        \"\"\"Run the model.\"\"\"\n",
    "        h1 = tf.nn.relu(tf.matmul(inputs, self.W1) + self.b1)\n",
    "        out = tf.matmul(h1, self.W2) + self.b2\n",
    "        return out\n",
    "\n",
    "# Define and calculate loss function (Note that in eager execution, loss must be in a function)\n",
    "def loss(model, inputs, targets, reg = tf.constant(0.01)):\n",
    "    out = model(inputs)\n",
    "    cross_entropy = tf.nn.softmax_cross_entropy_with_logits(logits= out, labels=tf.one_hot(targets,20))\n",
    "    L2_loss = tf.nn.l2_loss(model.W1) + tf.nn.l2_loss(model.W2)\n",
    "    return tf.reduce_mean(cross_entropy) + reg * L2_loss\n",
    "\n",
    "# calculate gradients for all variables using tf.GradientTape\n",
    "def grad(model, inputs, targets, reg = tf.constant(0.01)):\n",
    "    with tf.GradientTape() as tape:\n",
    "        loss_value = loss(model, inputs, targets, reg=reg)\n",
    "    return tape.gradient(loss_value, [model.W1, model.b1, model.W2, model.b2])\n",
    "\n",
    "# calculate classification accuracy\n",
    "def eval_acc(model, inputs, targets):\n",
    "    correct_prediction = tf.equal(targets, tf.cast(tf.argmax(model(inputs),1), tf.uint8))\n",
    "    accuracy = tf.reduce_mean(tf.cast(correct_prediction, tf.float32))\n",
    "    return accuracy\n",
    "\n",
    "num_train = 58000\n",
    "batch_size = 500\n",
    "num_batch = num_train//batch_size\n",
    "num_epochs = 15\n",
    "model = Model()\n",
    "optimizer = tf.keras.optimizers.SGD(learning_rate=1e-3)\n",
    "\n",
    "for e in range(num_epochs):\n",
    "    for i in range(num_batch):\n",
    "        batch_xs, batch_ys = X_train[i*batch_size:(i+1)*batch_size], y_train[i*batch_size:(i+1)*batch_size]\n",
    "        x_tf = tf.Variable(batch_xs, dtype = tf.float32)\n",
    "        y_tf = tf.Variable(batch_ys, dtype = tf.uint8)\n",
    "        \n",
    "        grads = grad(model, x_tf, y_tf, reg_tf)\n",
    "        #optimization based on calculated gradients \n",
    "        optimizer.apply_gradients(zip(grads, [model.W1, model.b1, model.W2, model.b2]))\n",
    "\n",
    "    x_tf = tf.Variable(X_val, dtype = tf.float32)\n",
    "    y_tf = tf.Variable(y_val, dtype = tf.uint8)\n",
    "    accuracy = eval_acc(model, x_tf, y_tf)\n",
    "    val_acc = accuracy.numpy()\n",
    "    print('epoch {}: valid acc = {}'.format(e+1, val_acc))\n",
    "\n",
    "x_tf = tf.Variable(X_test, dtype = tf.float32)\n",
    "y_tf = tf.Variable(y_test, dtype = tf.uint8)\n",
    "accuracy = eval_acc(model, x_tf, y_tf)\n",
    "test_acc = accuracy.numpy()\n",
    "print('test acc = {}'.format(test_acc))"
   ]
  },
  {
   "cell_type": "markdown",
   "metadata": {},
   "source": [
    "### Create Deeper Network"
   ]
  },
  {
   "cell_type": "markdown",
   "metadata": {
    "colab_type": "text",
    "id": "YmSduBmytrqb"
   },
   "source": [
    "<span style=\"color:red\"><strong>TODO</strong></span>: Create your 4-layer MLP in tensorflow. Since you are going to create a deeper neural network, it is recommended to use \"list\" to store your network parameters (weights and bias). Consider using a loop to create your MLP network. Hint: Copy the above code and make necessary changes in model definition."
   ]
  },
  {
   "cell_type": "code",
   "execution_count": null,
   "metadata": {},
   "outputs": [],
   "source": [
    "# Create you MLP using TensorFlow functions."
   ]
  },
  {
   "cell_type": "code",
   "execution_count": 4,
   "metadata": {},
   "outputs": [
    {
     "name": "stdout",
     "output_type": "stream",
     "text": [
      "epoch 1: valid acc = 0.1784999966621399\n",
      "epoch 2: valid acc = 0.18199999630451202\n",
      "epoch 3: valid acc = 0.18250000476837158\n",
      "epoch 4: valid acc = 0.18449999392032623\n",
      "epoch 5: valid acc = 0.18400000035762787\n",
      "epoch 6: valid acc = 0.18400000035762787\n",
      "epoch 7: valid acc = 0.18449999392032623\n",
      "epoch 8: valid acc = 0.18299999833106995\n",
      "epoch 9: valid acc = 0.18199999630451202\n",
      "epoch 10: valid acc = 0.18250000476837158\n",
      "epoch 11: valid acc = 0.18199999630451202\n",
      "epoch 12: valid acc = 0.18150000274181366\n",
      "epoch 13: valid acc = 0.18199999630451202\n",
      "epoch 14: valid acc = 0.18299999833106995\n",
      "epoch 15: valid acc = 0.1835000067949295\n",
      "epoch 16: valid acc = 0.18250000476837158\n",
      "epoch 17: valid acc = 0.18199999630451202\n",
      "epoch 18: valid acc = 0.18400000035762787\n",
      "epoch 19: valid acc = 0.18549999594688416\n",
      "epoch 20: valid acc = 0.18799999356269836\n",
      "epoch 21: valid acc = 0.1914999932050705\n",
      "epoch 22: valid acc = 0.19949999451637268\n",
      "epoch 23: valid acc = 0.20350000262260437\n",
      "epoch 24: valid acc = 0.21150000393390656\n",
      "epoch 25: valid acc = 0.22450000047683716\n",
      "epoch 26: valid acc = 0.2529999911785126\n",
      "epoch 27: valid acc = 0.3034999966621399\n",
      "epoch 28: valid acc = 0.2615000009536743\n",
      "epoch 29: valid acc = 0.32850000262260437\n",
      "epoch 30: valid acc = 0.3619999885559082\n",
      "epoch 31: valid acc = 0.3384999930858612\n",
      "epoch 32: valid acc = 0.3400000035762787\n",
      "epoch 33: valid acc = 0.3255000114440918\n",
      "epoch 34: valid acc = 0.3334999978542328\n",
      "epoch 35: valid acc = 0.4065000116825104\n",
      "epoch 36: valid acc = 0.42399999499320984\n",
      "epoch 37: valid acc = 0.40849998593330383\n",
      "epoch 38: valid acc = 0.39800000190734863\n",
      "epoch 39: valid acc = 0.398499995470047\n",
      "epoch 40: valid acc = 0.4020000100135803\n",
      "epoch 41: valid acc = 0.40849998593330383\n",
      "epoch 42: valid acc = 0.4129999876022339\n",
      "epoch 43: valid acc = 0.42500001192092896\n",
      "epoch 44: valid acc = 0.43299999833106995\n",
      "epoch 45: valid acc = 0.44749999046325684\n",
      "epoch 46: valid acc = 0.46149998903274536\n",
      "epoch 47: valid acc = 0.4909999966621399\n",
      "epoch 48: valid acc = 0.5170000195503235\n",
      "epoch 49: valid acc = 0.531499981880188\n",
      "epoch 50: valid acc = 0.5354999899864197\n",
      "epoch 51: valid acc = 0.5440000295639038\n",
      "epoch 52: valid acc = 0.5460000038146973\n",
      "epoch 53: valid acc = 0.5525000095367432\n",
      "epoch 54: valid acc = 0.5615000128746033\n",
      "epoch 55: valid acc = 0.565500020980835\n",
      "epoch 56: valid acc = 0.5709999799728394\n",
      "epoch 57: valid acc = 0.5734999775886536\n",
      "epoch 58: valid acc = 0.5799999833106995\n",
      "epoch 59: valid acc = 0.5889999866485596\n",
      "epoch 60: valid acc = 0.6029999852180481\n",
      "epoch 61: valid acc = 0.6200000047683716\n",
      "epoch 62: valid acc = 0.6384999752044678\n",
      "epoch 63: valid acc = 0.6570000052452087\n",
      "epoch 64: valid acc = 0.6725000143051147\n",
      "epoch 65: valid acc = 0.6850000023841858\n",
      "epoch 66: valid acc = 0.6934999823570251\n",
      "epoch 67: valid acc = 0.7020000219345093\n",
      "epoch 68: valid acc = 0.7105000019073486\n",
      "epoch 69: valid acc = 0.718999981880188\n",
      "epoch 70: valid acc = 0.722000002861023\n",
      "epoch 71: valid acc = 0.7279999852180481\n",
      "epoch 72: valid acc = 0.734000027179718\n",
      "epoch 73: valid acc = 0.7369999885559082\n",
      "epoch 74: valid acc = 0.7419999837875366\n",
      "epoch 75: valid acc = 0.7509999871253967\n",
      "epoch 76: valid acc = 0.7565000057220459\n",
      "epoch 77: valid acc = 0.7580000162124634\n",
      "epoch 78: valid acc = 0.7639999985694885\n",
      "epoch 79: valid acc = 0.7680000066757202\n",
      "epoch 80: valid acc = 0.7710000276565552\n",
      "epoch 81: valid acc = 0.7710000276565552\n",
      "epoch 82: valid acc = 0.7739999890327454\n",
      "epoch 83: valid acc = 0.7770000100135803\n",
      "epoch 84: valid acc = 0.7789999842643738\n",
      "epoch 85: valid acc = 0.7820000052452087\n",
      "epoch 86: valid acc = 0.7839999794960022\n",
      "epoch 87: valid acc = 0.7879999876022339\n",
      "epoch 88: valid acc = 0.7875000238418579\n",
      "epoch 89: valid acc = 0.7875000238418579\n",
      "epoch 90: valid acc = 0.7904999852180481\n",
      "epoch 91: valid acc = 0.7950000166893005\n",
      "epoch 92: valid acc = 0.7990000247955322\n",
      "epoch 93: valid acc = 0.8004999756813049\n",
      "epoch 94: valid acc = 0.8019999861717224\n",
      "epoch 95: valid acc = 0.8040000200271606\n",
      "epoch 96: valid acc = 0.8065000176429749\n",
      "epoch 97: valid acc = 0.809499979019165\n",
      "epoch 98: valid acc = 0.8115000128746033\n",
      "epoch 99: valid acc = 0.8119999766349792\n",
      "epoch 100: valid acc = 0.8125\n",
      "test acc = 0.804099977016449\n"
     ]
    }
   ],
   "source": [
    "## Four-layer net in tensorflow (eager execution mode)\n",
    "hidden_dim1 = 256\n",
    "hidden_dim2 = 128\n",
    "hidden_dim3 = 64\n",
    "reg_tf = tf.constant(0.01)\n",
    "\n",
    "# define a tf.keras.Model class\n",
    "class Model(tf.keras.Model):\n",
    "    def __init__(self):\n",
    "        super(Model, self).__init__()\n",
    "        self.W1 = tf.Variable(0.01*np.random.rand(X_train.shape[1], hidden_dim1).astype('float32'))\n",
    "        self.b1 = tf.Variable(np.zeros((hidden_dim1,)).astype('float32'))\n",
    "        self.W2 = tf.Variable(0.01*np.random.rand(hidden_dim1, hidden_dim2).astype('float32'))\n",
    "        self.b2 = tf.Variable(np.zeros((hidden_dim2,)).astype('float32'))\n",
    "        self.W3 = tf.Variable(0.01*np.random.rand(hidden_dim2, hidden_dim3).astype('float32'))\n",
    "        self.b3 = tf.Variable(np.zeros((hidden_dim3,)).astype('float32'))\n",
    "        self.W4 = tf.Variable(0.01*np.random.rand(hidden_dim3, 20).astype('float32'))\n",
    "        self.b4 = tf.Variable(np.zeros((20,)).astype('float32'))\n",
    "        \n",
    "    def call(self, inputs):\n",
    "        h1 = tf.nn.relu(tf.matmul(inputs, self.W1) + self.b1)\n",
    "        h2 = tf.nn.relu(tf.matmul(h1, self.W2) + self.b2)\n",
    "        h3 = tf.nn.relu(tf.matmul(h2, self.W3) + self.b3)\n",
    "        out = tf.matmul(h3, self.W4) + self.b4\n",
    "        return out\n",
    "\n",
    "# Define and calculate loss function (Note that in eager execution, loss must be in a function)\n",
    "def loss(model, inputs, targets, reg = tf.constant(0.01)):\n",
    "    out = model(inputs)\n",
    "    cross_entropy = tf.nn.softmax_cross_entropy_with_logits(logits= out, labels=tf.one_hot(targets,20))\n",
    "    L2_loss = tf.nn.l2_loss(model.W1) + tf.nn.l2_loss(model.W2) + tf.nn.l2_loss(model.W3) + tf.nn.l2_loss(model.W4)\n",
    "    return tf.reduce_mean(cross_entropy) + reg * L2_loss\n",
    "# calculate gradients for all variables using tf.GradientTape\n",
    "def grad(model, inputs, targets, reg = tf.constant(0.01)):\n",
    "    with tf.GradientTape() as tape:\n",
    "        loss_value = loss(model, inputs, targets, reg=reg)\n",
    "    return tape.gradient(loss_value, [model.W1, model.b1, model.W2, model.b2, model.W3, model.b3, model.W4, model.b4])\n",
    "\n",
    "# calculate classification accuracy\n",
    "def eval_acc(model, inputs, targets):\n",
    "    correct_prediction = tf.equal(targets, tf.cast(tf.argmax(model(inputs),1), tf.uint8))\n",
    "    accuracy = tf.reduce_mean(tf.cast(correct_prediction, tf.float32))\n",
    "    return accuracy\n",
    "\n",
    "num_train = 58000\n",
    "batch_size = 500\n",
    "num_batch = num_train//batch_size\n",
    "num_epochs = 100\n",
    "model = Model()\n",
    "optimizer = tf.keras.optimizers.SGD(learning_rate=1e-3)\n",
    "\n",
    "for e in range(num_epochs):\n",
    "    for i in range(num_batch):\n",
    "        batch_xs, batch_ys = X_train[i*batch_size:(i+1)*batch_size], y_train[i*batch_size:(i+1)*batch_size]\n",
    "        x_tf = tf.Variable(batch_xs, dtype = tf.float32)\n",
    "        y_tf = tf.Variable(batch_ys, dtype = tf.uint8)\n",
    "        \n",
    "        grads = grad(model, x_tf, y_tf, reg_tf)\n",
    "        #optimization based on calculated gradients \n",
    "        optimizer.apply_gradients(zip(grads, [model.W1, model.b1, model.W2, model.b2, \n",
    "                                              model.W3, model.b3, model.W4, model.b4]))\n",
    "\n",
    "    x_tf = tf.Variable(X_val, dtype = tf.float32)\n",
    "    y_tf = tf.Variable(y_val, dtype = tf.uint8)\n",
    "    accuracy = eval_acc(model, x_tf, y_tf)\n",
    "    val_acc = accuracy.numpy()\n",
    "    print('epoch {}: valid acc = {}'.format(e+1, val_acc))\n",
    "\n",
    "x_tf = tf.Variable(X_test, dtype = tf.float32)\n",
    "y_tf = tf.Variable(y_test, dtype = tf.uint8)\n",
    "accuracy = eval_acc(model, x_tf, y_tf)\n",
    "test_acc = accuracy.numpy()\n",
    "print('test acc = {}'.format(test_acc))"
   ]
  },
  {
   "cell_type": "markdown",
   "metadata": {},
   "source": [
    "### Introduction to TensorFlow.keras\n",
    "\n",
    "As you can see, when the network structure becomes larger, it is hard to handle variables from every layer. Here we introduce the `tf.keras` tool to build the network in a much simpler way. You may want to use it in your project."
   ]
  },
  {
   "cell_type": "markdown",
   "metadata": {},
   "source": [
    "<span style=\"color:red\"><strong>TODO</strong></span>: Follow this official example: https://www.tensorflow.org/datasets/keras_example#step_2_create_and_train_the_model to build an MLP and train it. \n",
    "\n",
    "*You should keep the same optimizer (SGD) and loss function (cross entropy) as in the previous task.*\n",
    "\n",
    "**Note:** Since we want to use our own dataset, we will not use the `tfds.load` method to load the data this time. \n",
    "\n",
    "You need to check the usage of [`model.fit()`](https://www.tensorflow.org/api_docs/python/tf/keras/Model#fit) and feed the model with our own data.\n",
    "\n",
    "**Tips:**\n",
    "* Softmax is also registered as a layer operation in tf.keras.\n",
    "* You can use `model.summary()` to visualize the model after you build it.\n",
    "* Use `verbose=2` in `model.fit()` to get similar training logs"
   ]
  },
  {
   "cell_type": "code",
   "execution_count": 6,
   "metadata": {},
   "outputs": [
    {
     "name": "stdout",
     "output_type": "stream",
     "text": [
      "Model: \"sequential_1\"\n",
      "_________________________________________________________________\n",
      "Layer (type)                 Output Shape              Param #   \n",
      "=================================================================\n",
      "flatten_1 (Flatten)          (None, 784)               0         \n",
      "_________________________________________________________________\n",
      "dense_3 (Dense)              (None, 300)               235500    \n",
      "_________________________________________________________________\n",
      "dense_4 (Dense)              (None, 300)               90300     \n",
      "_________________________________________________________________\n",
      "dense_5 (Dense)              (None, 50)                15050     \n",
      "=================================================================\n",
      "Total params: 340,850\n",
      "Trainable params: 340,850\n",
      "Non-trainable params: 0\n",
      "_________________________________________________________________\n",
      "Epoch 1/15\n",
      "1813/1813 - 3s - loss: 3.8673 - accuracy: 0.0779 - val_loss: 3.8551 - val_accuracy: 0.0900\n",
      "Epoch 2/15\n",
      "1813/1813 - 3s - loss: 3.8426 - accuracy: 0.1026 - val_loss: 3.8454 - val_accuracy: 0.0990\n",
      "Epoch 3/15\n",
      "1813/1813 - 3s - loss: 3.8180 - accuracy: 0.1271 - val_loss: 3.7810 - val_accuracy: 0.1640\n",
      "Epoch 4/15\n",
      "1813/1813 - 3s - loss: 3.6871 - accuracy: 0.2583 - val_loss: 3.6332 - val_accuracy: 0.3130\n",
      "Epoch 5/15\n",
      "1813/1813 - 3s - loss: 3.6208 - accuracy: 0.3247 - val_loss: 3.6113 - val_accuracy: 0.3340\n",
      "Epoch 6/15\n",
      "1813/1813 - 3s - loss: 3.6081 - accuracy: 0.3377 - val_loss: 3.6005 - val_accuracy: 0.3455\n",
      "Epoch 7/15\n",
      "1813/1813 - 3s - loss: 3.6026 - accuracy: 0.3430 - val_loss: 3.5953 - val_accuracy: 0.3505\n",
      "Epoch 8/15\n",
      "1813/1813 - 3s - loss: 3.5988 - accuracy: 0.3468 - val_loss: 3.5928 - val_accuracy: 0.3525\n",
      "Epoch 9/15\n",
      "1813/1813 - 3s - loss: 3.5956 - accuracy: 0.3499 - val_loss: 3.5914 - val_accuracy: 0.3550\n",
      "Epoch 10/15\n",
      "1813/1813 - 3s - loss: 3.5927 - accuracy: 0.3531 - val_loss: 3.5884 - val_accuracy: 0.3570\n",
      "Epoch 11/15\n",
      "1813/1813 - 3s - loss: 3.5905 - accuracy: 0.3553 - val_loss: 3.5834 - val_accuracy: 0.3620\n",
      "Epoch 12/15\n",
      "1813/1813 - 3s - loss: 3.5781 - accuracy: 0.3675 - val_loss: 3.5607 - val_accuracy: 0.3855\n",
      "Epoch 13/15\n",
      "1813/1813 - 3s - loss: 3.5565 - accuracy: 0.3893 - val_loss: 3.5468 - val_accuracy: 0.3990\n",
      "Epoch 14/15\n",
      "1813/1813 - 3s - loss: 3.5495 - accuracy: 0.3963 - val_loss: 3.5418 - val_accuracy: 0.4040\n",
      "Epoch 15/15\n",
      "1813/1813 - 3s - loss: 3.5458 - accuracy: 0.3998 - val_loss: 3.5390 - val_accuracy: 0.4065\n"
     ]
    },
    {
     "data": {
      "text/plain": [
       "<tensorflow.python.keras.callbacks.History at 0x2ef0183ab20>"
      ]
     },
     "execution_count": 6,
     "metadata": {},
     "output_type": "execute_result"
    }
   ],
   "source": [
    "#############################################################\n",
    "# TODO: build the model with tf.keras.models.Sequential\n",
    "model = tf.keras.models.Sequential([\n",
    "  tf.keras.layers.Flatten(input_shape=(784,)),\n",
    "  tf.keras.layers.Dense(300, activation='relu'),\n",
    "  tf.keras.layers.Dense(300, activation='relu'),\n",
    "  tf.keras.layers.Dense(50, activation='softmax')\n",
    "])\n",
    "# END of your code\n",
    "#############################################################\n",
    "\n",
    "\n",
    "\n",
    "#############################################################\n",
    "# TODO: compile the model, set optimizer and loss\n",
    "model.compile(\n",
    "    optimizer=tf.keras.optimizers.SGD(lr=1e-4), \n",
    "    loss=tf.keras.losses.SparseCategoricalCrossentropy(from_logits=True),\n",
    "    metrics=['accuracy'])\n",
    "model.summary()\n",
    "# END of your code\n",
    "#############################################################\n",
    "\n",
    "\n",
    "\n",
    "#############################################################\n",
    "# TODO: train the model with our own dataset\n",
    "model.fit(\n",
    "    X_train, y_train,\n",
    "    epochs=15, verbose=2,\n",
    "    validation_data=(X_val, y_val)\n",
    ")\n",
    "\n",
    "# END of your code\n",
    "#############################################################"
   ]
  },
  {
   "cell_type": "markdown",
   "metadata": {},
   "source": [
    "## Part 2: t-SNE (5%)\n",
    "\n",
    "t-SNE is is a machine learning algorithm for nonlinear dimensionality reduction developed by Geoffrey Hinton and Laurens van der Maaten. It is also a good way of visualizing high-dimensional data in 2D. We show its application for CIFAR100. Later it will be re-used in a CNN network. Experimenting with t-SNE can be fun. One thing to try is to visualize the output of each layer of MLP to observe the differences.\n",
    "\n",
    "<p style=\"line-height: 1.2;\">[1] Maaten, Laurens van der, and Geoffrey Hinton. \"Visualizing data using t-SNE.\" Journal of Machine Learning Research 9.Nov (2008): 2579-2605.</p>\n",
    "<p style=\"line-height: 1.2;\">[2] Adaptive learning rate scheme by Jacobs https://www.willamette.edu/~gorr/classes/cs449/Momentum/deltabardelta.html</p>\n",
    "<p style=\"line-height: 1.2;\">[3] http://cs.stanford.edu/people/karpathy/cnnembed/</p>\n",
    "<p style=\"line-height: 1.2;\">[4] How to Use t-SNE Effectively, with examples.\n",
    " https://distill.pub/2016/misread-tsne</p>"
   ]
  },
  {
   "cell_type": "code",
   "execution_count": 7,
   "metadata": {},
   "outputs": [],
   "source": [
    "from utils.train_funcs import train, test\n",
    "from utils.classifiers.mlp import MLP\n",
    "from utils.features.tsne import tsne"
   ]
  },
  {
   "cell_type": "code",
   "execution_count": 8,
   "metadata": {
    "tags": []
   },
   "outputs": [
    {
     "name": "stdout",
     "output_type": "stream",
     "text": [
      "(58000, 784) (2000, 784) (10000, 784) (100, 784)\n",
      "Train data shape:  (58000, 784)\n",
      "Train labels shape:  (58000,)\n",
      "Validation data shape:  (2000, 784)\n",
      "Validation labels shape:  (2000,)\n",
      "Test data shape:  (10000, 784)\n",
      "Test labels shape:  (10000,)\n",
      "Development data shape: (100, 784)\n",
      "Development data shape (100,)\n"
     ]
    }
   ],
   "source": [
    "# Load the raw Fashion-MNIST data.\n",
    "train_data, test_data = fashion_mnist.load_data()\n",
    "\n",
    "X_train_raw, y_train = train_data\n",
    "X_test_raw, y_test = test_data\n",
    "\n",
    "X_train = X_train_raw.reshape((X_train_raw.shape[0], X_train_raw.shape[1]**2))\n",
    "X_test = X_test_raw.reshape((X_test_raw.shape[0], X_test_raw.shape[1]**2))\n",
    "\n",
    "# Data organizations:\n",
    "# Train data: 58000 samples from original training set of 60,000\n",
    "# Validation data: 2000 samples from original training set: 58,000~60,000\n",
    "# Test data: 10000 samples from original test set\n",
    "# Development data (for gradient check): 100 from the training set\n",
    "num_training = 58000\n",
    "num_validation = 2000\n",
    "num_dev = 100\n",
    "\n",
    "X_val = X_train[-num_validation:, :]\n",
    "y_val = y_train[-num_validation:]\n",
    "\n",
    "mask = np.random.choice(num_training, num_dev, replace=False)\n",
    "X_dev = X_train[mask]\n",
    "y_dev = y_train[mask]\n",
    "\n",
    "X_train = X_train[:num_training, :]\n",
    "y_train = y_train[:num_training]\n",
    "\n",
    "# Preprocessing: subtract the mean value across every dimension for training data\n",
    "mean_image = np.mean(X_train, axis=0)\n",
    "\n",
    "X_train = X_train.astype(np.float32) - mean_image.astype(np.float32)\n",
    "X_val = X_val.astype(np.float32) - mean_image\n",
    "X_test = X_test.astype(np.float32) - mean_image\n",
    "X_dev = X_dev.astype(np.float32) - mean_image\n",
    "\n",
    "print(X_train.shape, X_val.shape, X_test.shape, X_dev.shape)\n",
    "print('Train data shape: ', X_train.shape)\n",
    "print('Train labels shape: ', y_train.shape)\n",
    "print('Validation data shape: ', X_val.shape)\n",
    "print('Validation labels shape: ', y_val.shape)\n",
    "print('Test data shape: ', X_test.shape)\n",
    "print('Test labels shape: ', y_test.shape)\n",
    "print('Development data shape:', X_dev.shape)\n",
    "print('Development data shape', y_dev.shape)"
   ]
  },
  {
   "cell_type": "markdown",
   "metadata": {},
   "source": [
    "#### tSNE of original data"
   ]
  },
  {
   "cell_type": "code",
   "execution_count": 9,
   "metadata": {
    "tags": []
   },
   "outputs": [
    {
     "name": "stdout",
     "output_type": "stream",
     "text": [
      "2.884413474476356\n",
      "The 100 th loop cost: 11.721131939147025, computation time: 2.303664207458496\n",
      "The 200 th loop cost: 0.5430185366937715, computation time: 4.517664432525635\n",
      "The 300 th loop cost: 0.505938087057304, computation time: 6.687664985656738\n",
      "The 400 th loop cost: 0.4995598575788116, computation time: 8.902668237686157\n",
      "The 500 th loop cost: 0.49813202934279427, computation time: 11.044665813446045\n",
      "The 600 th loop cost: 0.4976039962552066, computation time: 13.197667360305786\n",
      "The 700 th loop cost: 0.49736072845981477, computation time: 15.340665578842163\n",
      "The 800 th loop cost: 0.4972350526612644, computation time: 17.44769549369812\n",
      "The 900 th loop cost: 0.49713653952356895, computation time: 19.59466791152954\n",
      "The 1000 th loop cost: 0.49709530834318355, computation time: 21.754666328430176\n",
      "it takes 22.80430293083191 seconds\n"
     ]
    }
   ],
   "source": [
    "random_select = np.random.choice(10000, 500, replace=False)\n",
    "X = X_test_raw[random_select,:,:].reshape(500,X_train.shape[1]).astype('float')/255.0\n",
    "tic = time.time()\n",
    "Y = tsne(X, low_dim=2, perplexity=25.0)\n",
    "print(\"it takes {} seconds\".format(time.time()-tic))"
   ]
  },
  {
   "cell_type": "code",
   "execution_count": 10,
   "metadata": {},
   "outputs": [
    {
     "data": {
      "image/png": "[encoded data removed]",
      "text/plain": [
       "<Figure size 432x288 with 1 Axes>"
      ]
     },
     "metadata": {
      "needs_background": "light"
     },
     "output_type": "display_data"
    }
   ],
   "source": [
    "## visualize tSNE of original data\n",
    "labels = y_test[random_select]\n",
    "colors = np.random.rand(20,3)\n",
    "color_labels = [colors[int(i)] for i in labels.tolist()]\n",
    "plt.scatter(Y[:,0], Y[:,1], 20, color_labels)\n",
    "plt.show()"
   ]
  },
  {
   "cell_type": "markdown",
   "metadata": {},
   "source": [
    "#### tSNE of data after two hidden layers\n",
    "\n",
    "Do visualization of the tSNE of data after going through MLP. In the visualization result, you should find that in comparison with the tSNE of original data where all data points mess up with each other, tSNE of data after two-layer networks would be shown as multiple clusters in a 2D panel."
   ]
  },
  {
   "cell_type": "code",
   "execution_count": 11,
   "metadata": {
    "tags": []
   },
   "outputs": [
    {
     "name": "stdout",
     "output_type": "stream",
     "text": [
      "number of batches for training: 290\n",
      "epoch 1: valid acc = 0.819, new learning rate = 0.00095\n",
      "epoch 2: valid acc = 0.8495, new learning rate = 0.0009025\n",
      "epoch 3: valid acc = 0.864, new learning rate = 0.000857375\n",
      "epoch 4: valid acc = 0.86, new learning rate = 0.0008145062499999999\n",
      "epoch 5: valid acc = 0.869, new learning rate = 0.0007737809374999998\n",
      "epoch 6: valid acc = 0.875, new learning rate = 0.0007350918906249997\n",
      "epoch 7: valid acc = 0.876, new learning rate = 0.0006983372960937497\n",
      "epoch 8: valid acc = 0.872, new learning rate = 0.0006634204312890621\n",
      "epoch 9: valid acc = 0.873, new learning rate = 0.000630249409724609\n",
      "epoch 10: valid acc = 0.883, new learning rate = 0.0005987369392383785\n",
      "test acc: 0.8661\n"
     ]
    },
    {
     "data": {
      "text/plain": [
       "0.8661"
      ]
     },
     "execution_count": 11,
     "metadata": {},
     "output_type": "execute_result"
    }
   ],
   "source": [
    "# Define MLP model\n",
    "model = MLP(input_dim=X_train.shape[1], hidden_dims=[100], num_classes=20, reg=0.1, weight_scale=1e-3)\n",
    "\n",
    "num_epoch = 10\n",
    "batch_size = 200\n",
    "lr = 1e-3\n",
    "verbose = False\n",
    "train_acc_hist, val_acc_hist = train(model, X_train, y_train, X_val, y_val, \n",
    "                  num_epoch=num_epoch, batch_size=batch_size, learning_rate=lr, verbose=verbose, momentum=0.001)\n",
    "test(model, X_test, y_test)"
   ]
  },
  {
   "cell_type": "markdown",
   "metadata": {},
   "source": [
    "<span style=\"color:red\"><strong>TODO</strong></span>: Visualize data that is passed through MLP model defined above using tSNE. "
   ]
  },
  {
   "cell_type": "code",
   "execution_count": 12,
   "metadata": {
    "tags": []
   },
   "outputs": [
    {
     "name": "stdout",
     "output_type": "stream",
     "text": [
      "0.0986677692466115\n",
      "The 100 th loop cost: 8.663698331059738, computation time: 2.0879697799682617\n",
      "The 200 th loop cost: 0.21215639996083702, computation time: 4.318970203399658\n",
      "The 300 th loop cost: 0.1717607882969614, computation time: 6.4459710121154785\n",
      "The 400 th loop cost: 0.1598997763748237, computation time: 8.525970220565796\n",
      "The 500 th loop cost: 0.15542769842261267, computation time: 10.672970533370972\n",
      "The 600 th loop cost: 0.15297290957448864, computation time: 12.790969371795654\n",
      "The 700 th loop cost: 0.1513849586864469, computation time: 14.954970598220825\n",
      "The 800 th loop cost: 0.15026348792279498, computation time: 17.104974031448364\n",
      "The 900 th loop cost: 0.1494193332973163, computation time: 19.246971368789673\n",
      "The 1000 th loop cost: 0.1487527532942256, computation time: 21.402971744537354\n",
      "it takes 22.148998737335205 seconds\n"
     ]
    }
   ],
   "source": [
    "# run tSNE\n",
    "X = X_test[random_select]\n",
    "tic = time.time()\n",
    "\n",
    "#############################################################################\n",
    "#                          START OF YOUR CODE                               #\n",
    "# Hint: Pass data through affine and dense layers (model.layers) and then   #\n",
    "# apply softmax to obtain output of the MLP model.                          #\n",
    "#############################################################################\n",
    "from utils.classifiers.softmax import softmax\n",
    "input_x = model.layers[0].feedforward(X)\n",
    "input_x = model.layers[1].feedforward(input_x)\n",
    "out = softmax(input_x)\n",
    "Y = tsne(out, low_dim=2, perplexity=25.0)\n",
    "\n",
    "#############################################################################\n",
    "#                          END OF YOUR CODE                                 #\n",
    "#############################################################################\n",
    "\n",
    "print(\"it takes {} seconds\".format(time.time()-tic))"
   ]
  },
  {
   "cell_type": "code",
   "execution_count": 13,
   "metadata": {},
   "outputs": [
    {
     "data": {
      "image/png": "[encoded data removed]",
      "text/plain": [
       "<Figure size 432x288 with 1 Axes>"
      ]
     },
     "metadata": {
      "needs_background": "light"
     },
     "output_type": "display_data"
    }
   ],
   "source": [
    "# visualize tSNE 2D representation of data after two hidden layers\n",
    "#############################################################################\n",
    "#                          START OF YOUR CODE                               #\n",
    "# Hint: See tSNE visualization of original data                             #\n",
    "#############################################################################\n",
    "labels = y_test[random_select]\n",
    "colors = np.random.rand(20,3)\n",
    "color_labels = [colors[int(i)] for i in labels.tolist()]\n",
    "plt.scatter(Y[:,0], Y[:,1], 20, color_labels)\n",
    "plt.show()\n",
    "\n",
    "#############################################################################\n",
    "#                          END OF YOUR CODE                                 #\n",
    "#############################################################################"
   ]
  },
  {
   "cell_type": "markdown",
   "metadata": {},
   "source": [
    "<span style=\"color:red\"><strong>TODO</strong></span>: Try tuning the parameters of tSNE, do visualization of the new tSNE of data."
   ]
  },
  {
   "cell_type": "code",
   "execution_count": 14,
   "metadata": {},
   "outputs": [
    {
     "name": "stdout",
     "output_type": "stream",
     "text": [
      "0.3496448621461064\n",
      "The 100 th loop cost: 7.106444006247752, computation time: 2.3259572982788086\n",
      "The 200 th loop cost: 0.1384843943406676, computation time: 4.493960618972778\n",
      "The 300 th loop cost: 0.12336262221627098, computation time: 6.654957294464111\n",
      "The 400 th loop cost: 0.11889269751856013, computation time: 8.90795612335205\n",
      "The 500 th loop cost: 0.11719422152132947, computation time: 11.070958852767944\n",
      "The 600 th loop cost: 0.11625273163095846, computation time: 13.22398567199707\n",
      "The 700 th loop cost: 0.11557788349535493, computation time: 15.333985567092896\n",
      "The 800 th loop cost: 0.11501440787840995, computation time: 17.53895926475525\n",
      "The 900 th loop cost: 0.1144897768564553, computation time: 19.663957118988037\n",
      "The 1000 th loop cost: 0.11397918706631578, computation time: 21.761958122253418\n",
      "it takes 81.87928414344788 seconds\n"
     ]
    }
   ],
   "source": [
    "# Tune the parameter, show the results.\n",
    "# run tSNE\n",
    "X = X_test[random_select]\n",
    "\n",
    "\n",
    "#############################################################################\n",
    "#                          START OF YOUR CODE                               #\n",
    "#############################################################################\n",
    "from utils.classifiers.softmax import softmax\n",
    "input_x = model.layers[0].feedforward(X)\n",
    "input_x = model.layers[1].feedforward(input_x)\n",
    "out = softmax(input_x)\n",
    "Y = tsne(out, low_dim=2, perplexity=50.0)\n",
    "\n",
    "#############################################################################\n",
    "#                          END OF YOUR CODE                                 #\n",
    "#############################################################################\n",
    "\n",
    "print(\"it takes {} seconds\".format(time.time()-tic))"
   ]
  },
  {
   "cell_type": "code",
   "execution_count": 15,
   "metadata": {},
   "outputs": [
    {
     "data": {
      "image/png": "[encoded data removed]",
      "text/plain": [
       "<Figure size 432x288 with 1 Axes>"
      ]
     },
     "metadata": {
      "needs_background": "light"
     },
     "output_type": "display_data"
    }
   ],
   "source": [
    "# visualize tSNE 2D representation of data after two hidden layers\n",
    "#############################################################################\n",
    "#                          START OF YOUR CODE                               #\n",
    "#############################################################################\n",
    "labels = y_test[random_select]\n",
    "colors = np.random.rand(20,3)\n",
    "color_labels = [colors[int(i)] for i in labels.tolist()]\n",
    "plt.scatter(Y[:,0], Y[:,1], 20, color_labels)\n",
    "plt.show()\n",
    "\n",
    "#############################################################################\n",
    "#                          END OF YOUR CODE                                 #\n",
    "#############################################################################"
   ]
  },
  {
   "cell_type": "code",
   "execution_count": null,
   "metadata": {},
   "outputs": [],
   "source": []
  }
 ],
 "metadata": {
  "colab": {
   "name": "task2-mlp_eager.ipynb",
   "provenance": [],
   "toc_visible": true,
   "version": "0.3.2"
  },
  "kernelspec": {
   "display_name": "Python 3",
   "language": "python",
   "name": "python3"
  },
  "language_info": {
   "codemirror_mode": {
    "name": "ipython",
    "version": 3
   },
   "file_extension": ".py",
   "mimetype": "text/x-python",
   "name": "python",
   "nbconvert_exporter": "python",
   "pygments_lexer": "ipython3",
   "version": "3.8.8"
  },
  "vscode": {
   "interpreter": {
    "hash": "b0fa6594d8f4cbf19f97940f81e996739fb7646882a419484c72d19e05852a7e"
   }
  }
 },
 "nbformat": 4,
 "nbformat_minor": 4
}
